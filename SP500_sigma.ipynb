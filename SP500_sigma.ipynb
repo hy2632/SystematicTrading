{
  "nbformat": 4,
  "nbformat_minor": 0,
  "metadata": {
    "colab": {
      "name": "SP500_sigma.ipynb",
      "provenance": [],
      "collapsed_sections": [],
      "mount_file_id": "19li7pDdrBwuHzuWNqT5Xnu0sGAvK9itg",
      "authorship_tag": "ABX9TyNNFiB+Bx6KMt62e/WajHpX",
      "include_colab_link": true
    },
    "kernelspec": {
      "name": "python3",
      "display_name": "Python 3"
    },
    "widgets": {
      "application/vnd.jupyter.widget-state+json": {
        "573fc31f6a514b06940955570372c2f5": {
          "model_module": "@jupyter-widgets/controls",
          "model_name": "HBoxModel",
          "state": {
            "_view_name": "HBoxView",
            "_dom_classes": [],
            "_model_name": "HBoxModel",
            "_view_module": "@jupyter-widgets/controls",
            "_model_module_version": "1.5.0",
            "_view_count": null,
            "_view_module_version": "1.5.0",
            "box_style": "",
            "layout": "IPY_MODEL_19f25460855d4d028ef78b4b4d44d739",
            "_model_module": "@jupyter-widgets/controls",
            "children": [
              "IPY_MODEL_e1d65688de954eb49a20fd8b6f45d6c4",
              "IPY_MODEL_7fcca22e829147b1a85d72fee7f3bc69"
            ]
          }
        },
        "19f25460855d4d028ef78b4b4d44d739": {
          "model_module": "@jupyter-widgets/base",
          "model_name": "LayoutModel",
          "state": {
            "_view_name": "LayoutView",
            "grid_template_rows": null,
            "right": null,
            "justify_content": null,
            "_view_module": "@jupyter-widgets/base",
            "overflow": null,
            "_model_module_version": "1.2.0",
            "_view_count": null,
            "flex_flow": null,
            "width": null,
            "min_width": null,
            "border": null,
            "align_items": null,
            "bottom": null,
            "_model_module": "@jupyter-widgets/base",
            "top": null,
            "grid_column": null,
            "overflow_y": null,
            "overflow_x": null,
            "grid_auto_flow": null,
            "grid_area": null,
            "grid_template_columns": null,
            "flex": null,
            "_model_name": "LayoutModel",
            "justify_items": null,
            "grid_row": null,
            "max_height": null,
            "align_content": null,
            "visibility": null,
            "align_self": null,
            "height": null,
            "min_height": null,
            "padding": null,
            "grid_auto_rows": null,
            "grid_gap": null,
            "max_width": null,
            "order": null,
            "_view_module_version": "1.2.0",
            "grid_template_areas": null,
            "object_position": null,
            "object_fit": null,
            "grid_auto_columns": null,
            "margin": null,
            "display": null,
            "left": null
          }
        },
        "e1d65688de954eb49a20fd8b6f45d6c4": {
          "model_module": "@jupyter-widgets/controls",
          "model_name": "FloatProgressModel",
          "state": {
            "_view_name": "ProgressView",
            "style": "IPY_MODEL_b203d7cb58024215ac8ff921334a99ac",
            "_dom_classes": [],
            "description": "100%",
            "_model_name": "FloatProgressModel",
            "bar_style": "success",
            "max": 505,
            "_view_module": "@jupyter-widgets/controls",
            "_model_module_version": "1.5.0",
            "value": 505,
            "_view_count": null,
            "_view_module_version": "1.5.0",
            "orientation": "horizontal",
            "min": 0,
            "description_tooltip": null,
            "_model_module": "@jupyter-widgets/controls",
            "layout": "IPY_MODEL_b4ad93a6a40a452e896ef893b3c3adc7"
          }
        },
        "7fcca22e829147b1a85d72fee7f3bc69": {
          "model_module": "@jupyter-widgets/controls",
          "model_name": "HTMLModel",
          "state": {
            "_view_name": "HTMLView",
            "style": "IPY_MODEL_5ea8ab7fe05a4a618b6e19eb1922cde4",
            "_dom_classes": [],
            "description": "",
            "_model_name": "HTMLModel",
            "placeholder": "​",
            "_view_module": "@jupyter-widgets/controls",
            "_model_module_version": "1.5.0",
            "value": " 505/505 [09:13&lt;00:00,  1.10s/it]",
            "_view_count": null,
            "_view_module_version": "1.5.0",
            "description_tooltip": null,
            "_model_module": "@jupyter-widgets/controls",
            "layout": "IPY_MODEL_c7a9c09e9ae849afaee538d327be9523"
          }
        },
        "b203d7cb58024215ac8ff921334a99ac": {
          "model_module": "@jupyter-widgets/controls",
          "model_name": "ProgressStyleModel",
          "state": {
            "_view_name": "StyleView",
            "_model_name": "ProgressStyleModel",
            "description_width": "initial",
            "_view_module": "@jupyter-widgets/base",
            "_model_module_version": "1.5.0",
            "_view_count": null,
            "_view_module_version": "1.2.0",
            "bar_color": null,
            "_model_module": "@jupyter-widgets/controls"
          }
        },
        "b4ad93a6a40a452e896ef893b3c3adc7": {
          "model_module": "@jupyter-widgets/base",
          "model_name": "LayoutModel",
          "state": {
            "_view_name": "LayoutView",
            "grid_template_rows": null,
            "right": null,
            "justify_content": null,
            "_view_module": "@jupyter-widgets/base",
            "overflow": null,
            "_model_module_version": "1.2.0",
            "_view_count": null,
            "flex_flow": null,
            "width": null,
            "min_width": null,
            "border": null,
            "align_items": null,
            "bottom": null,
            "_model_module": "@jupyter-widgets/base",
            "top": null,
            "grid_column": null,
            "overflow_y": null,
            "overflow_x": null,
            "grid_auto_flow": null,
            "grid_area": null,
            "grid_template_columns": null,
            "flex": null,
            "_model_name": "LayoutModel",
            "justify_items": null,
            "grid_row": null,
            "max_height": null,
            "align_content": null,
            "visibility": null,
            "align_self": null,
            "height": null,
            "min_height": null,
            "padding": null,
            "grid_auto_rows": null,
            "grid_gap": null,
            "max_width": null,
            "order": null,
            "_view_module_version": "1.2.0",
            "grid_template_areas": null,
            "object_position": null,
            "object_fit": null,
            "grid_auto_columns": null,
            "margin": null,
            "display": null,
            "left": null
          }
        },
        "5ea8ab7fe05a4a618b6e19eb1922cde4": {
          "model_module": "@jupyter-widgets/controls",
          "model_name": "DescriptionStyleModel",
          "state": {
            "_view_name": "StyleView",
            "_model_name": "DescriptionStyleModel",
            "description_width": "",
            "_view_module": "@jupyter-widgets/base",
            "_model_module_version": "1.5.0",
            "_view_count": null,
            "_view_module_version": "1.2.0",
            "_model_module": "@jupyter-widgets/controls"
          }
        },
        "c7a9c09e9ae849afaee538d327be9523": {
          "model_module": "@jupyter-widgets/base",
          "model_name": "LayoutModel",
          "state": {
            "_view_name": "LayoutView",
            "grid_template_rows": null,
            "right": null,
            "justify_content": null,
            "_view_module": "@jupyter-widgets/base",
            "overflow": null,
            "_model_module_version": "1.2.0",
            "_view_count": null,
            "flex_flow": null,
            "width": null,
            "min_width": null,
            "border": null,
            "align_items": null,
            "bottom": null,
            "_model_module": "@jupyter-widgets/base",
            "top": null,
            "grid_column": null,
            "overflow_y": null,
            "overflow_x": null,
            "grid_auto_flow": null,
            "grid_area": null,
            "grid_template_columns": null,
            "flex": null,
            "_model_name": "LayoutModel",
            "justify_items": null,
            "grid_row": null,
            "max_height": null,
            "align_content": null,
            "visibility": null,
            "align_self": null,
            "height": null,
            "min_height": null,
            "padding": null,
            "grid_auto_rows": null,
            "grid_gap": null,
            "max_width": null,
            "order": null,
            "_view_module_version": "1.2.0",
            "grid_template_areas": null,
            "object_position": null,
            "object_fit": null,
            "grid_auto_columns": null,
            "margin": null,
            "display": null,
            "left": null
          }
        }
      }
    }
  },
  "cells": [
    {
      "cell_type": "markdown",
      "metadata": {
        "id": "view-in-github",
        "colab_type": "text"
      },
      "source": [
        "<a href=\"https://colab.research.google.com/github/hy2632/SystematicTrading/blob/main/SP500_sigma.ipynb\" target=\"_parent\"><img src=\"https://colab.research.google.com/assets/colab-badge.svg\" alt=\"Open In Colab\"/></a>"
      ]
    },
    {
      "cell_type": "code",
      "metadata": {
        "id": "Byif-K6HGouJ",
        "colab": {
          "base_uri": "https://localhost:8080/"
        },
        "outputId": "8e0b99b3-691d-4959-a6f8-a179fa390083"
      },
      "source": [
        "import numpy as np\r\n",
        "import pandas as pd\r\n",
        "# import pandas_datareader as pdr\r\n",
        "from pandas_datareader import data\r\n",
        "import matplotlib.pyplot as plt\r\n",
        "import pdb\r\n",
        "from tqdm.notebook import tqdm\r\n",
        "%cd drive/MyDrive/SystematicTrading/"
      ],
      "execution_count": 1,
      "outputs": [
        {
          "output_type": "stream",
          "text": [
            "/content/drive/MyDrive/SystematicTrading\n"
          ],
          "name": "stdout"
        }
      ]
    },
    {
      "cell_type": "markdown",
      "metadata": {
        "id": "eRfY4azWIK0x"
      },
      "source": [
        "\"Equities usually have an annualized standard deviation of 20% \""
      ]
    },
    {
      "cell_type": "code",
      "metadata": {
        "id": "G6D8I6RPIVSV"
      },
      "source": [
        "def get_stddev(symbol=\"AAPL\", start_date=\"20190101\", end_date=\"20200101\"):\r\n",
        "    df = data.get_data_yahoo(symbol, start_date, end_date)\r\n",
        "    return np.std(df[\"Adj Close\"].shift(1) / df[\"Adj Close\"] - 1) * np.sqrt(256)"
      ],
      "execution_count": 2,
      "outputs": []
    },
    {
      "cell_type": "code",
      "metadata": {
        "colab": {
          "base_uri": "https://localhost:8080/"
        },
        "id": "gLE1wAcSJf0J",
        "outputId": "0b2e2a80-0f67-4009-cfb7-53119a3a1f75"
      },
      "source": [
        "for stock in [\"AAPL\", \"AMD\", \"NVDA\", \"GM\", \"DD\"]:\r\n",
        "    print(get_stddev(stock))"
      ],
      "execution_count": 3,
      "outputs": [
        {
          "output_type": "stream",
          "text": [
            "0.26706148982619365\n",
            "0.5208233793165514\n",
            "0.4137055703177332\n",
            "0.24624559545169006\n",
            "0.3365610580459151\n"
          ],
          "name": "stdout"
        }
      ]
    },
    {
      "cell_type": "code",
      "metadata": {
        "id": "Pe-1onQ3Kw0C"
      },
      "source": [
        "payload=pd.read_html('https://en.wikipedia.org/wiki/List_of_S%26P_500_companies')\r\n",
        "\r\n",
        "first_table = payload[0]\r\n",
        "second_table = payload[1]\r\n",
        "\r\n",
        "df = first_table"
      ],
      "execution_count": 4,
      "outputs": []
    },
    {
      "cell_type": "code",
      "metadata": {
        "colab": {
          "base_uri": "https://localhost:8080/",
          "height": 67,
          "referenced_widgets": [
            "573fc31f6a514b06940955570372c2f5",
            "19f25460855d4d028ef78b4b4d44d739",
            "e1d65688de954eb49a20fd8b6f45d6c4",
            "7fcca22e829147b1a85d72fee7f3bc69",
            "b203d7cb58024215ac8ff921334a99ac",
            "b4ad93a6a40a452e896ef893b3c3adc7",
            "5ea8ab7fe05a4a618b6e19eb1922cde4",
            "c7a9c09e9ae849afaee538d327be9523"
          ]
        },
        "id": "_2jqVxnwLmkD",
        "outputId": "7836f3d3-1195-4f41-9a9c-0f5b9674896d"
      },
      "source": [
        "symbols = df.Symbol.to_list()\r\n",
        "stds = []\r\n",
        "for stock in tqdm(symbols):\r\n",
        "    try:\r\n",
        "        std = get_stddev(stock)\r\n",
        "        stds.append((stock, std))\r\n",
        "    except:\r\n",
        "        continue\r\n",
        "    \r\n",
        "    "
      ],
      "execution_count": 5,
      "outputs": [
        {
          "output_type": "display_data",
          "data": {
            "application/vnd.jupyter.widget-view+json": {
              "model_id": "573fc31f6a514b06940955570372c2f5",
              "version_minor": 0,
              "version_major": 2
            },
            "text/plain": [
              "HBox(children=(FloatProgress(value=0.0, max=505.0), HTML(value='')))"
            ]
          },
          "metadata": {
            "tags": []
          }
        },
        {
          "output_type": "stream",
          "text": [
            "\n"
          ],
          "name": "stdout"
        }
      ]
    },
    {
      "cell_type": "code",
      "metadata": {
        "id": "JnnRUGVpRHS2"
      },
      "source": [
        "df_std = pd.DataFrame(stds, columns=[\"Symbol\", \"Annualized_STD\"])"
      ],
      "execution_count": 17,
      "outputs": []
    },
    {
      "cell_type": "code",
      "metadata": {
        "id": "NdwHYlukSfU2"
      },
      "source": [
        "df_std.to_csv(\"SP500_std.csv\", index_label=False)"
      ],
      "execution_count": 18,
      "outputs": []
    },
    {
      "cell_type": "code",
      "metadata": {
        "id": "JBy1m5SST35X"
      },
      "source": [
        "df_std = pd.read_csv(\"SP500_std.csv\", )"
      ],
      "execution_count": 19,
      "outputs": []
    },
    {
      "cell_type": "code",
      "metadata": {
        "colab": {
          "base_uri": "https://localhost:8080/",
          "height": 419
        },
        "id": "b0oq0EFKFP2-",
        "outputId": "738e4ed6-df82-463b-c8e9-8d57bcda4f51"
      },
      "source": [
        "df_std"
      ],
      "execution_count": 20,
      "outputs": [
        {
          "output_type": "execute_result",
          "data": {
            "text/html": [
              "<div>\n",
              "<style scoped>\n",
              "    .dataframe tbody tr th:only-of-type {\n",
              "        vertical-align: middle;\n",
              "    }\n",
              "\n",
              "    .dataframe tbody tr th {\n",
              "        vertical-align: top;\n",
              "    }\n",
              "\n",
              "    .dataframe thead th {\n",
              "        text-align: right;\n",
              "    }\n",
              "</style>\n",
              "<table border=\"1\" class=\"dataframe\">\n",
              "  <thead>\n",
              "    <tr style=\"text-align: right;\">\n",
              "      <th></th>\n",
              "      <th>Symbol</th>\n",
              "      <th>Annualized_STD</th>\n",
              "    </tr>\n",
              "  </thead>\n",
              "  <tbody>\n",
              "    <tr>\n",
              "      <th>0</th>\n",
              "      <td>MMM</td>\n",
              "      <td>0.262415</td>\n",
              "    </tr>\n",
              "    <tr>\n",
              "      <th>1</th>\n",
              "      <td>ABT</td>\n",
              "      <td>0.197357</td>\n",
              "    </tr>\n",
              "    <tr>\n",
              "      <th>2</th>\n",
              "      <td>ABBV</td>\n",
              "      <td>0.293759</td>\n",
              "    </tr>\n",
              "    <tr>\n",
              "      <th>3</th>\n",
              "      <td>ABMD</td>\n",
              "      <td>0.580944</td>\n",
              "    </tr>\n",
              "    <tr>\n",
              "      <th>4</th>\n",
              "      <td>ACN</td>\n",
              "      <td>0.169762</td>\n",
              "    </tr>\n",
              "    <tr>\n",
              "      <th>...</th>\n",
              "      <td>...</td>\n",
              "      <td>...</td>\n",
              "    </tr>\n",
              "    <tr>\n",
              "      <th>494</th>\n",
              "      <td>YUM</td>\n",
              "      <td>0.157427</td>\n",
              "    </tr>\n",
              "    <tr>\n",
              "      <th>495</th>\n",
              "      <td>ZBRA</td>\n",
              "      <td>0.379222</td>\n",
              "    </tr>\n",
              "    <tr>\n",
              "      <th>496</th>\n",
              "      <td>ZBH</td>\n",
              "      <td>0.216758</td>\n",
              "    </tr>\n",
              "    <tr>\n",
              "      <th>497</th>\n",
              "      <td>ZION</td>\n",
              "      <td>0.254118</td>\n",
              "    </tr>\n",
              "    <tr>\n",
              "      <th>498</th>\n",
              "      <td>ZTS</td>\n",
              "      <td>0.206067</td>\n",
              "    </tr>\n",
              "  </tbody>\n",
              "</table>\n",
              "<p>499 rows × 2 columns</p>\n",
              "</div>"
            ],
            "text/plain": [
              "    Symbol  Annualized_STD\n",
              "0      MMM        0.262415\n",
              "1      ABT        0.197357\n",
              "2     ABBV        0.293759\n",
              "3     ABMD        0.580944\n",
              "4      ACN        0.169762\n",
              "..     ...             ...\n",
              "494    YUM        0.157427\n",
              "495   ZBRA        0.379222\n",
              "496    ZBH        0.216758\n",
              "497   ZION        0.254118\n",
              "498    ZTS        0.206067\n",
              "\n",
              "[499 rows x 2 columns]"
            ]
          },
          "metadata": {
            "tags": []
          },
          "execution_count": 20
        }
      ]
    },
    {
      "cell_type": "code",
      "metadata": {
        "colab": {
          "base_uri": "https://localhost:8080/",
          "height": 374
        },
        "id": "9aRg3zPARo4a",
        "outputId": "177ffe28-c12d-449f-f9e2-239be9e0615b"
      },
      "source": [
        "plt.figure(figsize=(10,6))\r\n",
        "plt.hist(df_std.Annualized_STD, bins=30)\r\n",
        "plt.show()"
      ],
      "execution_count": 9,
      "outputs": [
        {
          "output_type": "display_data",
          "data": {
            "image/png": "[encoded data removed]",
            "text/plain": [
              "<Figure size 720x432 with 1 Axes>"
            ]
          },
          "metadata": {
            "tags": [],
            "needs_background": "light"
          }
        }
      ]
    },
    {
      "cell_type": "code",
      "metadata": {
        "colab": {
          "base_uri": "https://localhost:8080/"
        },
        "id": "X_HcWJV8SIeY",
        "outputId": "fc08a870-ea12-466d-a480-9ca276e6d484"
      },
      "source": [
        "df_std.Annualized_STD.median(),df_std.Annualized_STD.mean()"
      ],
      "execution_count": 12,
      "outputs": [
        {
          "output_type": "execute_result",
          "data": {
            "text/plain": [
              "(0.23683583565470004, 0.2539848363069482)"
            ]
          },
          "metadata": {
            "tags": []
          },
          "execution_count": 12
        }
      ]
    },
    {
      "cell_type": "markdown",
      "metadata": {
        "id": "izo5SRet0AQT"
      },
      "source": [
        "\"2-year bond has an annualized sigma of 1.5% while a 10-year bond is more like 8%.\""
      ]
    },
    {
      "cell_type": "code",
      "metadata": {
        "colab": {
          "base_uri": "https://localhost:8080/"
        },
        "id": "yX1DVICn2kq9",
        "outputId": "563b3674-bc37-4eba-c5d8-e0aae6ce9596"
      },
      "source": [
        "get_stddev(\"^TNX\", \"20160101\", \"20170101\")"
      ],
      "execution_count": 14,
      "outputs": [
        {
          "output_type": "execute_result",
          "data": {
            "text/plain": [
              "0.3932939185481707"
            ]
          },
          "metadata": {
            "tags": []
          },
          "execution_count": 14
        }
      ]
    }
  ]
}