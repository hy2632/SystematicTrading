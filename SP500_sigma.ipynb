{
  "nbformat": 4,
  "nbformat_minor": 0,
  "metadata": {
    "colab": {
      "name": "SP500_sigma.ipynb",
      "provenance": [],
      "collapsed_sections": [],
      "mount_file_id": "19li7pDdrBwuHzuWNqT5Xnu0sGAvK9itg",
      "authorship_tag": "ABX9TyOxqSALiTEc3IlFxL+wqz4H",
      "include_colab_link": true
    },
    "kernelspec": {
      "name": "python3",
      "display_name": "Python 3"
    },
    "widgets": {
      "application/vnd.jupyter.widget-state+json": {
        "b54a6cc06a0048619eb85ed506c99730": {
          "model_module": "@jupyter-widgets/controls",
          "model_name": "HBoxModel",
          "state": {
            "_view_name": "HBoxView",
            "_dom_classes": [],
            "_model_name": "HBoxModel",
            "_view_module": "@jupyter-widgets/controls",
            "_model_module_version": "1.5.0",
            "_view_count": null,
            "_view_module_version": "1.5.0",
            "box_style": "",
            "layout": "IPY_MODEL_f5477de3391042768e7a7761435bc223",
            "_model_module": "@jupyter-widgets/controls",
            "children": [
              "IPY_MODEL_23e23fbb472f419cac82a1cedfc099a9",
              "IPY_MODEL_a5196830f789499b9ff0b1b03c00e5d9"
            ]
          }
        },
        "f5477de3391042768e7a7761435bc223": {
          "model_module": "@jupyter-widgets/base",
          "model_name": "LayoutModel",
          "state": {
            "_view_name": "LayoutView",
            "grid_template_rows": null,
            "right": null,
            "justify_content": null,
            "_view_module": "@jupyter-widgets/base",
            "overflow": null,
            "_model_module_version": "1.2.0",
            "_view_count": null,
            "flex_flow": null,
            "width": null,
            "min_width": null,
            "border": null,
            "align_items": null,
            "bottom": null,
            "_model_module": "@jupyter-widgets/base",
            "top": null,
            "grid_column": null,
            "overflow_y": null,
            "overflow_x": null,
            "grid_auto_flow": null,
            "grid_area": null,
            "grid_template_columns": null,
            "flex": null,
            "_model_name": "LayoutModel",
            "justify_items": null,
            "grid_row": null,
            "max_height": null,
            "align_content": null,
            "visibility": null,
            "align_self": null,
            "height": null,
            "min_height": null,
            "padding": null,
            "grid_auto_rows": null,
            "grid_gap": null,
            "max_width": null,
            "order": null,
            "_view_module_version": "1.2.0",
            "grid_template_areas": null,
            "object_position": null,
            "object_fit": null,
            "grid_auto_columns": null,
            "margin": null,
            "display": null,
            "left": null
          }
        },
        "23e23fbb472f419cac82a1cedfc099a9": {
          "model_module": "@jupyter-widgets/controls",
          "model_name": "FloatProgressModel",
          "state": {
            "_view_name": "ProgressView",
            "style": "IPY_MODEL_872441cc147d40919fd603ce3255d35f",
            "_dom_classes": [],
            "description": "100%",
            "_model_name": "FloatProgressModel",
            "bar_style": "success",
            "max": 505,
            "_view_module": "@jupyter-widgets/controls",
            "_model_module_version": "1.5.0",
            "value": 505,
            "_view_count": null,
            "_view_module_version": "1.5.0",
            "orientation": "horizontal",
            "min": 0,
            "description_tooltip": null,
            "_model_module": "@jupyter-widgets/controls",
            "layout": "IPY_MODEL_24a3511891264353ac4082b0b0b568b4"
          }
        },
        "a5196830f789499b9ff0b1b03c00e5d9": {
          "model_module": "@jupyter-widgets/controls",
          "model_name": "HTMLModel",
          "state": {
            "_view_name": "HTMLView",
            "style": "IPY_MODEL_15042234c94d43ac82787c909753ab2e",
            "_dom_classes": [],
            "description": "",
            "_model_name": "HTMLModel",
            "placeholder": "​",
            "_view_module": "@jupyter-widgets/controls",
            "_model_module_version": "1.5.0",
            "value": " 505/505 [15:52&lt;00:00,  1.89s/it]",
            "_view_count": null,
            "_view_module_version": "1.5.0",
            "description_tooltip": null,
            "_model_module": "@jupyter-widgets/controls",
            "layout": "IPY_MODEL_78ddd6392478410d9b060e32f8082557"
          }
        },
        "872441cc147d40919fd603ce3255d35f": {
          "model_module": "@jupyter-widgets/controls",
          "model_name": "ProgressStyleModel",
          "state": {
            "_view_name": "StyleView",
            "_model_name": "ProgressStyleModel",
            "description_width": "initial",
            "_view_module": "@jupyter-widgets/base",
            "_model_module_version": "1.5.0",
            "_view_count": null,
            "_view_module_version": "1.2.0",
            "bar_color": null,
            "_model_module": "@jupyter-widgets/controls"
          }
        },
        "24a3511891264353ac4082b0b0b568b4": {
          "model_module": "@jupyter-widgets/base",
          "model_name": "LayoutModel",
          "state": {
            "_view_name": "LayoutView",
            "grid_template_rows": null,
            "right": null,
            "justify_content": null,
            "_view_module": "@jupyter-widgets/base",
            "overflow": null,
            "_model_module_version": "1.2.0",
            "_view_count": null,
            "flex_flow": null,
            "width": null,
            "min_width": null,
            "border": null,
            "align_items": null,
            "bottom": null,
            "_model_module": "@jupyter-widgets/base",
            "top": null,
            "grid_column": null,
            "overflow_y": null,
            "overflow_x": null,
            "grid_auto_flow": null,
            "grid_area": null,
            "grid_template_columns": null,
            "flex": null,
            "_model_name": "LayoutModel",
            "justify_items": null,
            "grid_row": null,
            "max_height": null,
            "align_content": null,
            "visibility": null,
            "align_self": null,
            "height": null,
            "min_height": null,
            "padding": null,
            "grid_auto_rows": null,
            "grid_gap": null,
            "max_width": null,
            "order": null,
            "_view_module_version": "1.2.0",
            "grid_template_areas": null,
            "object_position": null,
            "object_fit": null,
            "grid_auto_columns": null,
            "margin": null,
            "display": null,
            "left": null
          }
        },
        "15042234c94d43ac82787c909753ab2e": {
          "model_module": "@jupyter-widgets/controls",
          "model_name": "DescriptionStyleModel",
          "state": {
            "_view_name": "StyleView",
            "_model_name": "DescriptionStyleModel",
            "description_width": "",
            "_view_module": "@jupyter-widgets/base",
            "_model_module_version": "1.5.0",
            "_view_count": null,
            "_view_module_version": "1.2.0",
            "_model_module": "@jupyter-widgets/controls"
          }
        },
        "78ddd6392478410d9b060e32f8082557": {
          "model_module": "@jupyter-widgets/base",
          "model_name": "LayoutModel",
          "state": {
            "_view_name": "LayoutView",
            "grid_template_rows": null,
            "right": null,
            "justify_content": null,
            "_view_module": "@jupyter-widgets/base",
            "overflow": null,
            "_model_module_version": "1.2.0",
            "_view_count": null,
            "flex_flow": null,
            "width": null,
            "min_width": null,
            "border": null,
            "align_items": null,
            "bottom": null,
            "_model_module": "@jupyter-widgets/base",
            "top": null,
            "grid_column": null,
            "overflow_y": null,
            "overflow_x": null,
            "grid_auto_flow": null,
            "grid_area": null,
            "grid_template_columns": null,
            "flex": null,
            "_model_name": "LayoutModel",
            "justify_items": null,
            "grid_row": null,
            "max_height": null,
            "align_content": null,
            "visibility": null,
            "align_self": null,
            "height": null,
            "min_height": null,
            "padding": null,
            "grid_auto_rows": null,
            "grid_gap": null,
            "max_width": null,
            "order": null,
            "_view_module_version": "1.2.0",
            "grid_template_areas": null,
            "object_position": null,
            "object_fit": null,
            "grid_auto_columns": null,
            "margin": null,
            "display": null,
            "left": null
          }
        }
      }
    }
  },
  "cells": [
    {
      "cell_type": "markdown",
      "metadata": {
        "id": "view-in-github",
        "colab_type": "text"
      },
      "source": [
        "<a href=\"https://colab.research.google.com/github/hy2632/SystematicTrading/blob/main/SP500_sigma.ipynb\" target=\"_parent\"><img src=\"https://colab.research.google.com/assets/colab-badge.svg\" alt=\"Open In Colab\"/></a>"
      ]
    },
    {
      "cell_type": "code",
      "metadata": {
        "id": "Byif-K6HGouJ"
      },
      "source": [
        "import numpy as np\r\n",
        "import pandas as pd\r\n",
        "# import pandas_datareader as pdr\r\n",
        "from pandas_datareader import data\r\n",
        "import matplotlib.pyplot as plt\r\n",
        "import pdb"
      ],
      "execution_count": null,
      "outputs": []
    },
    {
      "cell_type": "code",
      "metadata": {
        "colab": {
          "base_uri": "https://localhost:8080/"
        },
        "id": "ra63iVyRSil0",
        "outputId": "e1d5b496-0a97-466d-d271-f04009ea0499"
      },
      "source": [
        "%cd drive/MyDrive/SystematicTrading/"
      ],
      "execution_count": null,
      "outputs": [
        {
          "output_type": "stream",
          "text": [
            "/content/drive/MyDrive/SystematicTrading\n"
          ],
          "name": "stdout"
        }
      ]
    },
    {
      "cell_type": "code",
      "metadata": {
        "id": "mpiDaNjJLxZ_"
      },
      "source": [
        "from tqdm.notebook import tqdm"
      ],
      "execution_count": null,
      "outputs": []
    },
    {
      "cell_type": "markdown",
      "metadata": {
        "id": "eRfY4azWIK0x"
      },
      "source": [
        "\"Equities usually have an annualized standard deviation of 20% \""
      ]
    },
    {
      "cell_type": "code",
      "metadata": {
        "id": "G6D8I6RPIVSV"
      },
      "source": [
        "def get_stddev(symbol=\"AAPL\", start_date=\"20190101\", end_date=\"20200101\"):\r\n",
        "    df = data.get_data_yahoo(symbol, start_date, end_date)\r\n",
        "    return np.std(df[\"Adj Close\"].shift(1) / df[\"Adj Close\"] - 1) * np.sqrt(365)"
      ],
      "execution_count": null,
      "outputs": []
    },
    {
      "cell_type": "code",
      "metadata": {
        "colab": {
          "base_uri": "https://localhost:8080/"
        },
        "id": "gLE1wAcSJf0J",
        "outputId": "827eda62-76ba-4d2e-f09f-1657f54a3bc6"
      },
      "source": [
        "for stock in [\"AAPL\", \"AMD\", \"NVDA\", \"GM\", \"DD\", \"\"]:\r\n",
        "    print(get_stddev(stock))"
      ],
      "execution_count": null,
      "outputs": [
        {
          "output_type": "stream",
          "text": [
            "0.318887662442679\n",
            "0.6218947931573402\n",
            "0.4939896139424514\n",
            "0.2940322184658661\n",
            "0.40187437409768434\n"
          ],
          "name": "stdout"
        }
      ]
    },
    {
      "cell_type": "code",
      "metadata": {
        "id": "Pe-1onQ3Kw0C"
      },
      "source": [
        "payload=pd.read_html('https://en.wikipedia.org/wiki/List_of_S%26P_500_companies')\r\n",
        "\r\n",
        "first_table = payload[0]\r\n",
        "second_table = payload[1]\r\n",
        "\r\n",
        "df = first_table"
      ],
      "execution_count": null,
      "outputs": []
    },
    {
      "cell_type": "code",
      "metadata": {
        "colab": {
          "base_uri": "https://localhost:8080/",
          "height": 67,
          "referenced_widgets": [
            "b54a6cc06a0048619eb85ed506c99730",
            "f5477de3391042768e7a7761435bc223",
            "23e23fbb472f419cac82a1cedfc099a9",
            "a5196830f789499b9ff0b1b03c00e5d9",
            "872441cc147d40919fd603ce3255d35f",
            "24a3511891264353ac4082b0b0b568b4",
            "15042234c94d43ac82787c909753ab2e",
            "78ddd6392478410d9b060e32f8082557"
          ]
        },
        "id": "_2jqVxnwLmkD",
        "outputId": "179f15b0-05ad-4af1-ecbc-6943602b3d5a"
      },
      "source": [
        "symbols = df.Symbol.to_list()\r\n",
        "stds = []\r\n",
        "for stock in tqdm(symbols):\r\n",
        "    try:\r\n",
        "        std = get_stddev(stock)\r\n",
        "        stds.append((stock, std))\r\n",
        "    except:\r\n",
        "        continue\r\n",
        "    \r\n",
        "    "
      ],
      "execution_count": null,
      "outputs": [
        {
          "output_type": "display_data",
          "data": {
            "application/vnd.jupyter.widget-view+json": {
              "model_id": "b54a6cc06a0048619eb85ed506c99730",
              "version_minor": 0,
              "version_major": 2
            },
            "text/plain": [
              "HBox(children=(FloatProgress(value=0.0, max=505.0), HTML(value='')))"
            ]
          },
          "metadata": {
            "tags": []
          }
        },
        {
          "output_type": "stream",
          "text": [
            "\n"
          ],
          "name": "stdout"
        }
      ]
    },
    {
      "cell_type": "code",
      "metadata": {
        "id": "JnnRUGVpRHS2"
      },
      "source": [
        "df_std = pd.DataFrame(stds, columns=[\"Symbol\", \"Annualized_STD\"])"
      ],
      "execution_count": null,
      "outputs": []
    },
    {
      "cell_type": "code",
      "metadata": {
        "id": "NdwHYlukSfU2"
      },
      "source": [
        "df_std.to_csv(\"SP500_std.csv\")"
      ],
      "execution_count": null,
      "outputs": []
    },
    {
      "cell_type": "code",
      "metadata": {
        "id": "JBy1m5SST35X"
      },
      "source": [
        "df_std = pd.read_csv(\"SP500_std.csv\")"
      ],
      "execution_count": null,
      "outputs": []
    },
    {
      "cell_type": "code",
      "metadata": {
        "colab": {
          "base_uri": "https://localhost:8080/",
          "height": 374
        },
        "id": "9aRg3zPARo4a",
        "outputId": "9e9d9fab-4e3b-48b0-e7c3-47f21eecc444"
      },
      "source": [
        "plt.figure(figsize=(10,6))\r\n",
        "plt.hist(df_std.Annualized_STD, bins=30)\r\n",
        "plt.show()"
      ],
      "execution_count": null,
      "outputs": [
        {
          "output_type": "display_data",
          "data": {
            "image/png": "[encoded data removed]",
            "text/plain": [
              "<Figure size 720x432 with 1 Axes>"
            ]
          },
          "metadata": {
            "tags": [],
            "needs_background": "light"
          }
        }
      ]
    },
    {
      "cell_type": "code",
      "metadata": {
        "colab": {
          "base_uri": "https://localhost:8080/"
        },
        "id": "X_HcWJV8SIeY",
        "outputId": "0cb493d7-53cc-45b0-af0f-2390ea010187"
      },
      "source": [
        "df_std.Annualized_STD.median(),df_std.Annualized_STD.mean()"
      ],
      "execution_count": null,
      "outputs": [
        {
          "output_type": "execute_result",
          "data": {
            "text/plain": [
              "(0.28279639293459197, 0.30327334491593905)"
            ]
          },
          "metadata": {
            "tags": []
          },
          "execution_count": 64
        }
      ]
    }
  ]
}